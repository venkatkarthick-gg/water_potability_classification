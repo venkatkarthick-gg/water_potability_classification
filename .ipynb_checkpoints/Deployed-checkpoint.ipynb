{
 "cells": [
  {
   "cell_type": "code",
   "execution_count": 29,
   "id": "00a317ad",
   "metadata": {},
   "outputs": [
    {
     "name": "stdout",
     "output_type": "stream",
     "text": [
      "Overwriting venky.py\n"
     ]
    }
   ],
   "source": [
    "%%writefile venky.py\n",
    "import streamlit as st\n",
    "import pickle\n",
    "import base64\n",
    "import numpy as np\n",
    "import pandas as pd\n",
    "\n",
    "st.title('Water_potability')\n",
    "ph=st.slider('Enter your ph-level',0.0,14.0,0.5)\n",
    "chloro=st.slider('Enter choloromine',0.3,13.5,0.5)\n",
    "hardness=st.slider('enter the hardness',47.43,323.0,0.5)\n",
    "solid=st.slider('enter the solidity',320.0,61228.0,0.5)\n",
    "Sulfate=st.slider('Enter the Sulfate',128.0,485.0,0.5)\n",
    "Conductivity=st.slider('Conductivity of Water',181.5,755.0,0.5)\n",
    "Organic_carbon=st.slider('Organic_content',2.5,29.0,0.5)\n",
    "Trihal=st.slider('Enter the trihalomethanes',0.7,124.0,0.5)\n",
    "turbid=st.slider('Enter the Turbidity',1.45,6.8)\n",
    "\n",
    "\n",
    "with open('transform_Chloramines','rb')as file:\n",
    "    Chloramin_ts=pickle.load(file)\n",
    "with open('transform_Conductivity','rb')as file:\n",
    "    Conductivity_ts=pickle.load(file)\n",
    "with open('transform_Hardness','rb')as file:\n",
    "    hardness_ts=pickle.load(file)\n",
    "with open('transform_Organic_carbon','rb')as file:\n",
    "    orgcarb_ts=pickle.load(file)\n",
    "with open('transform_ph','rb')as file:\n",
    "    ph_ts=pickle.load(file)\n",
    "with open('transform_Solids','rb')as file:\n",
    "    Solid_ts=pickle.load(file)\n",
    "with open('transform_Sulfate','rb')as file:\n",
    "    sulphate_ts=pickle.load(file)\n",
    "with open('transform_Trihalomethanes','rb')as file:\n",
    "    trihal_ts=pickle.load(file)\n",
    "with open('transform_Turbidity','rb')as file:\n",
    "    turbidity_ts=pickle.load(file)\n",
    "    \n",
    "with open('model_svc','rb')as file:\n",
    "    model=pickle.load(file)\n",
    "\n",
    "    \n",
    "ph=ph_ts.transform(pd.DataFrame([ph]))\n",
    "# st.write(ph[0])\n",
    "Hardness=hardness_ts.transform(pd.DataFrame([hardness]))\n",
    "chloramine=Chloramin_ts.transform(pd.DataFrame([chloro]))\n",
    "Conductivity=Conductivity_ts.transform(pd.DataFrame([Conductivity]))\n",
    "organic_carbon=orgcarb_ts.transform(pd.DataFrame([Organic_carbon]))\n",
    "Solids=Solid_ts.transform(pd.DataFrame([solid]))\n",
    "sulphate=sulphate_ts.transform(pd.DataFrame([Sulfate]))\n",
    "trihalomethanes=trihal_ts.transform(pd.DataFrame([Trihal]))\n",
    "turbidity=turbidity_ts.transform(pd.DataFrame([turbid]))\n",
    "\n",
    "data=pd.DataFrame({'ph':ph[0],'Hardness':Hardness[0],'Solids':Solids[0],'Chloramines':chloramine[0],'Sulfate':sulphate[0],\n",
    "                   'Conductivity':Conductivity[0],'Organic_carbon':organic_carbon[0],'Trihalomethanes':trihalomethanes[0],\n",
    "                  'Turbidity':turbidity[0]})\n",
    "# st.write(data)\n",
    "\n",
    "prediction=model.predict(data)\n",
    "# st.write(prediction)\n",
    "if st.button('Prediction'):\n",
    "    if prediction==0:\n",
    "        st.error('Not potable')\n",
    "    else:\n",
    "        st.success('Potable')   "
   ]
  },
  {
   "cell_type": "code",
   "execution_count": null,
   "id": "2ee22ed2",
   "metadata": {
    "collapsed": true
   },
   "outputs": [],
   "source": [
    "ph 13.999999999999998 0.0\n",
    "Hardness 323.124 47.432\n",
    "Solids 61227.19600771213 320.942611274359\n",
    "Chloramines 13.127000000000002 0.3520000000000003\n",
    "Sulfate 481.0306423059972 129.00000000000003\n",
    "Conductivity 753.3426195583046 181.483753985146\n",
    "Organic_carbon 28.30000000000001 2.1999999999999886\n",
    "Trihalomethanes 124.0 0.7379999999999995\n",
    "Turbidity 6.739 1.45\n",
    "Potability 1 0"
   ]
  }
 ],
 "metadata": {
  "kernelspec": {
   "display_name": "Python 3",
   "language": "python",
   "name": "python3"
  },
  "language_info": {
   "codemirror_mode": {
    "name": "ipython",
    "version": 3
   },
   "file_extension": ".py",
   "mimetype": "text/x-python",
   "name": "python",
   "nbconvert_exporter": "python",
   "pygments_lexer": "ipython3",
   "version": "3.9.13"
  }
 },
 "nbformat": 4,
 "nbformat_minor": 5
}
